{
 "cells": [
  {
   "cell_type": "code",
   "execution_count": 1,
   "id": "dadcd395-625f-488d-97a3-45bc020c65b6",
   "metadata": {},
   "outputs": [],
   "source": [
    "import pandas as pd\n",
    "import matplotlib.pyplot as plt"
   ]
  },
  {
   "cell_type": "code",
   "execution_count": 2,
   "id": "a179997d-e7eb-4f1f-b06e-11f22fe3a1b5",
   "metadata": {},
   "outputs": [
    {
     "data": {
      "text/html": [
       "<div>\n",
       "<style scoped>\n",
       "    .dataframe tbody tr th:only-of-type {\n",
       "        vertical-align: middle;\n",
       "    }\n",
       "\n",
       "    .dataframe tbody tr th {\n",
       "        vertical-align: top;\n",
       "    }\n",
       "\n",
       "    .dataframe thead th {\n",
       "        text-align: right;\n",
       "    }\n",
       "</style>\n",
       "<table border=\"1\" class=\"dataframe\">\n",
       "  <thead>\n",
       "    <tr style=\"text-align: right;\">\n",
       "      <th></th>\n",
       "      <th>year</th>\n",
       "      <th>model</th>\n",
       "      <th>price</th>\n",
       "      <th>mileage</th>\n",
       "      <th>color</th>\n",
       "      <th>transmission</th>\n",
       "    </tr>\n",
       "  </thead>\n",
       "  <tbody>\n",
       "    <tr>\n",
       "      <th>0</th>\n",
       "      <td>2011</td>\n",
       "      <td>SEL</td>\n",
       "      <td>21992</td>\n",
       "      <td>7413</td>\n",
       "      <td>Yellow</td>\n",
       "      <td>AUTO</td>\n",
       "    </tr>\n",
       "    <tr>\n",
       "      <th>1</th>\n",
       "      <td>2011</td>\n",
       "      <td>SEL</td>\n",
       "      <td>20995</td>\n",
       "      <td>10926</td>\n",
       "      <td>Gray</td>\n",
       "      <td>AUTO</td>\n",
       "    </tr>\n",
       "    <tr>\n",
       "      <th>2</th>\n",
       "      <td>2011</td>\n",
       "      <td>SEL</td>\n",
       "      <td>29995</td>\n",
       "      <td>-1</td>\n",
       "      <td>Gray</td>\n",
       "      <td>AUTO</td>\n",
       "    </tr>\n",
       "    <tr>\n",
       "      <th>3</th>\n",
       "      <td>2011</td>\n",
       "      <td>SEL</td>\n",
       "      <td>19995</td>\n",
       "      <td>7351</td>\n",
       "      <td>Silver</td>\n",
       "      <td>AUTO</td>\n",
       "    </tr>\n",
       "    <tr>\n",
       "      <th>4</th>\n",
       "      <td>2011</td>\n",
       "      <td>SEL</td>\n",
       "      <td>17809</td>\n",
       "      <td>11613</td>\n",
       "      <td>Gray</td>\n",
       "      <td>AUTO</td>\n",
       "    </tr>\n",
       "    <tr>\n",
       "      <th>...</th>\n",
       "      <td>...</td>\n",
       "      <td>...</td>\n",
       "      <td>...</td>\n",
       "      <td>...</td>\n",
       "      <td>...</td>\n",
       "      <td>...</td>\n",
       "    </tr>\n",
       "    <tr>\n",
       "      <th>155</th>\n",
       "      <td>2001</td>\n",
       "      <td>SE</td>\n",
       "      <td>4899</td>\n",
       "      <td>151479</td>\n",
       "      <td>Yellow</td>\n",
       "      <td>AUTO</td>\n",
       "    </tr>\n",
       "    <tr>\n",
       "      <th>156</th>\n",
       "      <td>2000</td>\n",
       "      <td>SE</td>\n",
       "      <td>3800</td>\n",
       "      <td>109259</td>\n",
       "      <td>Red</td>\n",
       "      <td>AUTO</td>\n",
       "    </tr>\n",
       "    <tr>\n",
       "      <th>157</th>\n",
       "      <td>2010</td>\n",
       "      <td>SES</td>\n",
       "      <td>0</td>\n",
       "      <td>16035</td>\n",
       "      <td>Red</td>\n",
       "      <td>MANUAL</td>\n",
       "    </tr>\n",
       "    <tr>\n",
       "      <th>158</th>\n",
       "      <td>2005</td>\n",
       "      <td>SES</td>\n",
       "      <td>8488</td>\n",
       "      <td>-1</td>\n",
       "      <td>Red</td>\n",
       "      <td>AUTO</td>\n",
       "    </tr>\n",
       "    <tr>\n",
       "      <th>159</th>\n",
       "      <td>2004</td>\n",
       "      <td>SE</td>\n",
       "      <td>0</td>\n",
       "      <td>-1</td>\n",
       "      <td>Silver</td>\n",
       "      <td>AUTO</td>\n",
       "    </tr>\n",
       "  </tbody>\n",
       "</table>\n",
       "<p>160 rows × 6 columns</p>\n",
       "</div>"
      ],
      "text/plain": [
       "     year model  price  mileage   color transmission\n",
       "0    2011   SEL  21992     7413  Yellow         AUTO\n",
       "1    2011   SEL  20995    10926    Gray         AUTO\n",
       "2    2011   SEL  29995       -1    Gray         AUTO\n",
       "3    2011   SEL  19995     7351  Silver         AUTO\n",
       "4    2011   SEL  17809    11613    Gray         AUTO\n",
       "..    ...   ...    ...      ...     ...          ...\n",
       "155  2001    SE   4899   151479  Yellow         AUTO\n",
       "156  2000    SE   3800   109259     Red         AUTO\n",
       "157  2010   SES      0    16035     Red       MANUAL\n",
       "158  2005   SES   8488       -1     Red         AUTO\n",
       "159  2004    SE      0       -1  Silver         AUTO\n",
       "\n",
       "[160 rows x 6 columns]"
      ]
     },
     "execution_count": 2,
     "metadata": {},
     "output_type": "execute_result"
    }
   ],
   "source": [
    "usedcars_noisy = pd.read_excel('./usedcars_noisy.xls')\n",
    "usedcars_noisy"
   ]
  },
  {
   "cell_type": "code",
   "execution_count": 4,
   "id": "04ca3204-d561-4681-af95-52008c858ade",
   "metadata": {},
   "outputs": [
    {
     "data": {
      "text/plain": [
       "13128"
      ]
     },
     "execution_count": 4,
     "metadata": {},
     "output_type": "execute_result"
    }
   ],
   "source": [
    "mean_price = usedcars_noisy['price'][usedcars_noisy['price'] != 0].mean()\n",
    "mean_price = round(mean_price)\n",
    "mean_price"
   ]
  },
  {
   "cell_type": "code",
   "execution_count": null,
   "id": "d8d085e8-be38-41f6-89bc-5c71aae3dd4b",
   "metadata": {},
   "outputs": [],
   "source": [
    "usedcars_noisy.loc[usedcars_noisy['price'] == 0, 'price'] = mean_price\n",
    "usedcars_noisy"
   ]
  },
  {
   "cell_type": "code",
   "execution_count": null,
   "id": "8fad8ef1-83bf-4246-84e6-54233468535b",
   "metadata": {},
   "outputs": [],
   "source": [
    "median_mileage = round(usedcars_noisy['mileage'][usedcars_noisy['mileage'] != -1].median())\n",
    "median_mileage"
   ]
  },
  {
   "cell_type": "code",
   "execution_count": null,
   "id": "bb30db7b-2028-4177-b998-79b096a8eb9b",
   "metadata": {},
   "outputs": [],
   "source": [
    "usedcars_noisy.loc[usedcars_noisy['mileage'] == -1, 'mileage'] = median_mileage\n",
    "usedcars_noisy"
   ]
  },
  {
   "cell_type": "code",
   "execution_count": null,
   "id": "16fb3d64-bfa7-456c-a45d-5cb664f5a4d9",
   "metadata": {},
   "outputs": [],
   "source": [
    "usedcars_noisy.to_csv('usedcars_clean.csv')"
   ]
  },
  {
   "cell_type": "code",
   "execution_count": null,
   "id": "b66f938a-7703-4dea-9afa-8d025639846e",
   "metadata": {},
   "outputs": [],
   "source": [
    "df = pd.read_csv('./usedcars_clean.csv')\n",
    "df['color'] = df['color'].str.lower()\n",
    "df"
   ]
  },
  {
   "cell_type": "code",
   "execution_count": null,
   "id": "e0647b7e-e0ce-42ad-8b9a-e22e6d0ee0c5",
   "metadata": {},
   "outputs": [],
   "source": [
    "plt.figure(figsize=(10, 6))\n",
    "plt.hist(df[\"price\"], bins=20, edgecolor=\"k\", alpha=0.7)\n",
    "plt.title(\"Distribution of Car Prices\")\n",
    "plt.xlabel(\"Price ($)\")\n",
    "plt.ylabel(\"Frequency\")\n",
    "plt.grid(True)\n",
    "plt.show()"
   ]
  },
  {
   "cell_type": "code",
   "execution_count": null,
   "id": "4e4bea73-2d02-4c74-b243-e086292215ad",
   "metadata": {},
   "outputs": [],
   "source": [
    "plt.figure(figsize=(12, 6))\n",
    "df.boxplot(column=\"price\", by=\"year\", rot=90)\n",
    "plt.title(\"Price Distribution by Year\")\n",
    "plt.xlabel(\"Year\")\n",
    "plt.ylabel(\"Price ($)\")\n",
    "plt.suptitle(\"\")  # 移除默认标题\n",
    "plt.grid(True)\n",
    "plt.show()"
   ]
  },
  {
   "cell_type": "code",
   "execution_count": null,
   "id": "c8f4323f-9f1b-4d8e-a981-2c286cb3656c",
   "metadata": {},
   "outputs": [],
   "source": [
    "plt.figure(figsize=(10, 6))\n",
    "plt.scatter(df[\"mileage\"], df[\"price\"], alpha=0.5)\n",
    "plt.title(\"Mileage vs. Price\")\n",
    "plt.xlabel(\"Mileage (miles)\")\n",
    "plt.ylabel(\"Price ($)\")\n",
    "plt.grid(True)\n",
    "plt.show()"
   ]
  },
  {
   "cell_type": "code",
   "execution_count": null,
   "id": "04470a02-e854-4ce5-ae87-2c9af6675d35",
   "metadata": {},
   "outputs": [],
   "source": [
    "plt.figure(figsize=(12, 6))\n",
    "df.boxplot(column=\"price\", by=\"color\", rot=45)\n",
    "plt.title(\"Price Distribution by Color\")\n",
    "plt.xlabel(\"Color\")\n",
    "plt.ylabel(\"Price ($)\")\n",
    "plt.suptitle(\"\")  # 移除默认标题\n",
    "plt.grid(True)\n",
    "plt.show()"
   ]
  },
  {
   "cell_type": "code",
   "execution_count": null,
   "id": "5f0b7351-022a-454e-bf77-b2900c46121e",
   "metadata": {},
   "outputs": [],
   "source": [
    "transmission_price = df.groupby(\"transmission\")[\"price\"].mean()\n",
    "plt.figure(figsize=(8, 5))\n",
    "transmission_price.plot(kind=\"bar\", color=[\"skyblue\", \"salmon\"])\n",
    "plt.title(\"Average Price by Transmission Type\")\n",
    "plt.xlabel(\"Transmission\")\n",
    "plt.ylabel(\"Average Price ($)\")\n",
    "plt.xticks(rotation=0)\n",
    "plt.grid(axis=\"y\")\n",
    "plt.show()"
   ]
  },
  {
   "cell_type": "code",
   "execution_count": null,
   "id": "f6d3c620-d472-465b-a716-866a86368eb8",
   "metadata": {},
   "outputs": [],
   "source": [
    "model_price = df.groupby(\"model\")[\"price\"].mean().sort_values()\n",
    "plt.figure(figsize=(8, 5))\n",
    "model_price.plot(kind=\"bar\", color=\"teal\")\n",
    "plt.title(\"Average Price by Model\")\n",
    "plt.xlabel(\"Model\")\n",
    "plt.ylabel(\"Average Price ($)\")\n",
    "plt.xticks(rotation=0)\n",
    "plt.grid(axis=\"y\")\n",
    "plt.show()"
   ]
  },
  {
   "cell_type": "code",
   "execution_count": null,
   "id": "ce96be4d-160c-428b-81a6-e0c68c5a983d",
   "metadata": {},
   "outputs": [],
   "source": [
    "year_count = df[\"year\"].value_counts().sort_index()\n",
    "plt.figure(figsize=(10, 6))\n",
    "year_count.plot(kind=\"bar\", color=\"purple\")\n",
    "plt.title(\"Number of Cars by Year\")\n",
    "plt.xlabel(\"Year\")\n",
    "plt.ylabel(\"Count\")\n",
    "plt.grid(axis=\"y\")\n",
    "plt.show()"
   ]
  },
  {
   "cell_type": "code",
   "execution_count": null,
   "id": "e10a0a89-4cb7-41d6-9c9e-f91683668245",
   "metadata": {},
   "outputs": [],
   "source": []
  }
 ],
 "metadata": {
  "kernelspec": {
   "display_name": "Python 3 (ipykernel)",
   "language": "python",
   "name": "python3"
  },
  "language_info": {
   "codemirror_mode": {
    "name": "ipython",
    "version": 3
   },
   "file_extension": ".py",
   "mimetype": "text/x-python",
   "name": "python",
   "nbconvert_exporter": "python",
   "pygments_lexer": "ipython3",
   "version": "3.12.8"
  },
  "widgets": {
   "application/vnd.jupyter.widget-state+json": {
    "state": {},
    "version_major": 2,
    "version_minor": 0
   }
  }
 },
 "nbformat": 4,
 "nbformat_minor": 5
}
