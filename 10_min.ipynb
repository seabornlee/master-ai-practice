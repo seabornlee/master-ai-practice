{
 "cells": [
  {
   "cell_type": "code",
   "execution_count": 1,
   "id": "e6f44cb0-e99e-4d50-acb1-3c2c74fc3460",
   "metadata": {},
   "outputs": [],
   "source": [
    "import pandas as pd\n",
    "import numpy as np"
   ]
  },
  {
   "cell_type": "code",
   "execution_count": 2,
   "id": "3b43c551-e53a-4cf4-88ff-d00724091dc7",
   "metadata": {},
   "outputs": [
    {
     "data": {
      "text/plain": [
       "DatetimeIndex(['2025-01-01', '2025-01-02', '2025-01-03', '2025-01-04',\n",
       "               '2025-01-05', '2025-01-06'],\n",
       "              dtype='datetime64[ns]', freq='D')"
      ]
     },
     "execution_count": 2,
     "metadata": {},
     "output_type": "execute_result"
    }
   ],
   "source": [
    "dates = pd.date_range(\"20250101\", periods=6)\n",
    "dates"
   ]
  },
  {
   "cell_type": "code",
   "execution_count": 3,
   "id": "41c86813-be26-4ed8-ad95-65668f4805e6",
   "metadata": {},
   "outputs": [
    {
     "data": {
      "text/html": [
       "<div>\n",
       "<style scoped>\n",
       "    .dataframe tbody tr th:only-of-type {\n",
       "        vertical-align: middle;\n",
       "    }\n",
       "\n",
       "    .dataframe tbody tr th {\n",
       "        vertical-align: top;\n",
       "    }\n",
       "\n",
       "    .dataframe thead th {\n",
       "        text-align: right;\n",
       "    }\n",
       "</style>\n",
       "<table border=\"1\" class=\"dataframe\">\n",
       "  <thead>\n",
       "    <tr style=\"text-align: right;\">\n",
       "      <th></th>\n",
       "      <th>A</th>\n",
       "      <th>B</th>\n",
       "      <th>C</th>\n",
       "      <th>D</th>\n",
       "    </tr>\n",
       "  </thead>\n",
       "  <tbody>\n",
       "    <tr>\n",
       "      <th>2025-01-01</th>\n",
       "      <td>-0.026527</td>\n",
       "      <td>-0.015031</td>\n",
       "      <td>0.677819</td>\n",
       "      <td>-0.788622</td>\n",
       "    </tr>\n",
       "    <tr>\n",
       "      <th>2025-01-02</th>\n",
       "      <td>1.041708</td>\n",
       "      <td>-1.650464</td>\n",
       "      <td>1.267820</td>\n",
       "      <td>-0.925160</td>\n",
       "    </tr>\n",
       "    <tr>\n",
       "      <th>2025-01-03</th>\n",
       "      <td>1.220726</td>\n",
       "      <td>0.738887</td>\n",
       "      <td>-0.970610</td>\n",
       "      <td>-1.693516</td>\n",
       "    </tr>\n",
       "    <tr>\n",
       "      <th>2025-01-04</th>\n",
       "      <td>1.091509</td>\n",
       "      <td>1.967964</td>\n",
       "      <td>1.785499</td>\n",
       "      <td>-2.316161</td>\n",
       "    </tr>\n",
       "    <tr>\n",
       "      <th>2025-01-05</th>\n",
       "      <td>2.632787</td>\n",
       "      <td>1.058175</td>\n",
       "      <td>1.275991</td>\n",
       "      <td>1.025387</td>\n",
       "    </tr>\n",
       "    <tr>\n",
       "      <th>2025-01-06</th>\n",
       "      <td>0.631203</td>\n",
       "      <td>-0.386878</td>\n",
       "      <td>0.327058</td>\n",
       "      <td>-0.746183</td>\n",
       "    </tr>\n",
       "  </tbody>\n",
       "</table>\n",
       "</div>"
      ],
      "text/plain": [
       "                   A         B         C         D\n",
       "2025-01-01 -0.026527 -0.015031  0.677819 -0.788622\n",
       "2025-01-02  1.041708 -1.650464  1.267820 -0.925160\n",
       "2025-01-03  1.220726  0.738887 -0.970610 -1.693516\n",
       "2025-01-04  1.091509  1.967964  1.785499 -2.316161\n",
       "2025-01-05  2.632787  1.058175  1.275991  1.025387\n",
       "2025-01-06  0.631203 -0.386878  0.327058 -0.746183"
      ]
     },
     "execution_count": 3,
     "metadata": {},
     "output_type": "execute_result"
    }
   ],
   "source": [
    "df = pd.DataFrame(np.random.randn(6, 4), index=dates, columns=list(\"ABCD\"))\n",
    "df"
   ]
  },
  {
   "cell_type": "code",
   "execution_count": 5,
   "id": "8438a66a-ed87-4520-bbad-5cbba927d6c8",
   "metadata": {},
   "outputs": [
    {
     "data": {
      "text/html": [
       "<div>\n",
       "<style scoped>\n",
       "    .dataframe tbody tr th:only-of-type {\n",
       "        vertical-align: middle;\n",
       "    }\n",
       "\n",
       "    .dataframe tbody tr th {\n",
       "        vertical-align: top;\n",
       "    }\n",
       "\n",
       "    .dataframe thead th {\n",
       "        text-align: right;\n",
       "    }\n",
       "</style>\n",
       "<table border=\"1\" class=\"dataframe\">\n",
       "  <thead>\n",
       "    <tr style=\"text-align: right;\">\n",
       "      <th></th>\n",
       "      <th>A</th>\n",
       "      <th>B</th>\n",
       "      <th>C</th>\n",
       "      <th>D</th>\n",
       "      <th>E</th>\n",
       "      <th>F</th>\n",
       "    </tr>\n",
       "  </thead>\n",
       "  <tbody>\n",
       "    <tr>\n",
       "      <th>0</th>\n",
       "      <td>1.0</td>\n",
       "      <td>2013-01-02</td>\n",
       "      <td>1.0</td>\n",
       "      <td>3</td>\n",
       "      <td>test</td>\n",
       "      <td>foo</td>\n",
       "    </tr>\n",
       "    <tr>\n",
       "      <th>1</th>\n",
       "      <td>1.0</td>\n",
       "      <td>2013-01-02</td>\n",
       "      <td>1.0</td>\n",
       "      <td>3</td>\n",
       "      <td>train</td>\n",
       "      <td>foo</td>\n",
       "    </tr>\n",
       "    <tr>\n",
       "      <th>2</th>\n",
       "      <td>1.0</td>\n",
       "      <td>2013-01-02</td>\n",
       "      <td>1.0</td>\n",
       "      <td>3</td>\n",
       "      <td>test</td>\n",
       "      <td>foo</td>\n",
       "    </tr>\n",
       "    <tr>\n",
       "      <th>3</th>\n",
       "      <td>1.0</td>\n",
       "      <td>2013-01-02</td>\n",
       "      <td>1.0</td>\n",
       "      <td>3</td>\n",
       "      <td>train</td>\n",
       "      <td>foo</td>\n",
       "    </tr>\n",
       "  </tbody>\n",
       "</table>\n",
       "</div>"
      ],
      "text/plain": [
       "     A          B    C  D      E    F\n",
       "0  1.0 2013-01-02  1.0  3   test  foo\n",
       "1  1.0 2013-01-02  1.0  3  train  foo\n",
       "2  1.0 2013-01-02  1.0  3   test  foo\n",
       "3  1.0 2013-01-02  1.0  3  train  foo"
      ]
     },
     "execution_count": 5,
     "metadata": {},
     "output_type": "execute_result"
    }
   ],
   "source": [
    "df2 = pd.DataFrame(\n",
    "    {\n",
    "        \"A\": 1.0,\n",
    "        \"B\": pd.Timestamp(\"20130102\"),\n",
    "        \"C\": pd.Series(1, index=list(range(4)), dtype=\"float32\"),\n",
    "        \"D\": np.array([3] * 4, dtype=\"int32\"),\n",
    "        \"E\": pd.Categorical([\"test\", \"train\", \"test\", \"train\"]),\n",
    "        \"F\": \"foo\",\n",
    "    }\n",
    ")\n",
    "df2"
   ]
  },
  {
   "cell_type": "code",
   "execution_count": 7,
   "id": "56ab3378-e1ff-4dc8-b908-ee8029513a82",
   "metadata": {},
   "outputs": [
    {
     "data": {
      "text/plain": [
       "array([[-0.02652688, -0.01503079,  0.67781916, -0.78862161],\n",
       "       [ 1.04170774, -1.65046447,  1.26782042, -0.92516   ],\n",
       "       [ 1.22072607,  0.73888694, -0.97061012, -1.69351596],\n",
       "       [ 1.09150872,  1.96796356,  1.78549914, -2.31616086],\n",
       "       [ 2.63278733,  1.05817544,  1.27599111,  1.02538669],\n",
       "       [ 0.63120292, -0.38687787,  0.32705765, -0.74618287]])"
      ]
     },
     "execution_count": 7,
     "metadata": {},
     "output_type": "execute_result"
    }
   ],
   "source": [
    "df.to_numpy()"
   ]
  },
  {
   "cell_type": "code",
   "execution_count": 8,
   "id": "575f81f0-36eb-4fc0-8f20-3173a71ef345",
   "metadata": {},
   "outputs": [
    {
     "data": {
      "text/html": [
       "<div>\n",
       "<style scoped>\n",
       "    .dataframe tbody tr th:only-of-type {\n",
       "        vertical-align: middle;\n",
       "    }\n",
       "\n",
       "    .dataframe tbody tr th {\n",
       "        vertical-align: top;\n",
       "    }\n",
       "\n",
       "    .dataframe thead th {\n",
       "        text-align: right;\n",
       "    }\n",
       "</style>\n",
       "<table border=\"1\" class=\"dataframe\">\n",
       "  <thead>\n",
       "    <tr style=\"text-align: right;\">\n",
       "      <th></th>\n",
       "      <th>A</th>\n",
       "      <th>B</th>\n",
       "      <th>C</th>\n",
       "      <th>D</th>\n",
       "    </tr>\n",
       "  </thead>\n",
       "  <tbody>\n",
       "    <tr>\n",
       "      <th>count</th>\n",
       "      <td>6.000000</td>\n",
       "      <td>6.000000</td>\n",
       "      <td>6.000000</td>\n",
       "      <td>6.000000</td>\n",
       "    </tr>\n",
       "    <tr>\n",
       "      <th>mean</th>\n",
       "      <td>1.098568</td>\n",
       "      <td>0.285442</td>\n",
       "      <td>0.727263</td>\n",
       "      <td>-0.907376</td>\n",
       "    </tr>\n",
       "    <tr>\n",
       "      <th>std</th>\n",
       "      <td>0.878214</td>\n",
       "      <td>1.258860</td>\n",
       "      <td>0.975556</td>\n",
       "      <td>1.129483</td>\n",
       "    </tr>\n",
       "    <tr>\n",
       "      <th>min</th>\n",
       "      <td>-0.026527</td>\n",
       "      <td>-1.650464</td>\n",
       "      <td>-0.970610</td>\n",
       "      <td>-2.316161</td>\n",
       "    </tr>\n",
       "    <tr>\n",
       "      <th>25%</th>\n",
       "      <td>0.733829</td>\n",
       "      <td>-0.293916</td>\n",
       "      <td>0.414748</td>\n",
       "      <td>-1.501427</td>\n",
       "    </tr>\n",
       "    <tr>\n",
       "      <th>50%</th>\n",
       "      <td>1.066608</td>\n",
       "      <td>0.361928</td>\n",
       "      <td>0.972820</td>\n",
       "      <td>-0.856891</td>\n",
       "    </tr>\n",
       "    <tr>\n",
       "      <th>75%</th>\n",
       "      <td>1.188422</td>\n",
       "      <td>0.978353</td>\n",
       "      <td>1.273948</td>\n",
       "      <td>-0.756793</td>\n",
       "    </tr>\n",
       "    <tr>\n",
       "      <th>max</th>\n",
       "      <td>2.632787</td>\n",
       "      <td>1.967964</td>\n",
       "      <td>1.785499</td>\n",
       "      <td>1.025387</td>\n",
       "    </tr>\n",
       "  </tbody>\n",
       "</table>\n",
       "</div>"
      ],
      "text/plain": [
       "              A         B         C         D\n",
       "count  6.000000  6.000000  6.000000  6.000000\n",
       "mean   1.098568  0.285442  0.727263 -0.907376\n",
       "std    0.878214  1.258860  0.975556  1.129483\n",
       "min   -0.026527 -1.650464 -0.970610 -2.316161\n",
       "25%    0.733829 -0.293916  0.414748 -1.501427\n",
       "50%    1.066608  0.361928  0.972820 -0.856891\n",
       "75%    1.188422  0.978353  1.273948 -0.756793\n",
       "max    2.632787  1.967964  1.785499  1.025387"
      ]
     },
     "execution_count": 8,
     "metadata": {},
     "output_type": "execute_result"
    }
   ],
   "source": [
    "df.describe()"
   ]
  },
  {
   "cell_type": "code",
   "execution_count": 9,
   "id": "5e0d109a-15e1-4ebb-9560-1c5cc5880ec0",
   "metadata": {},
   "outputs": [
    {
     "data": {
      "text/html": [
       "<div>\n",
       "<style scoped>\n",
       "    .dataframe tbody tr th:only-of-type {\n",
       "        vertical-align: middle;\n",
       "    }\n",
       "\n",
       "    .dataframe tbody tr th {\n",
       "        vertical-align: top;\n",
       "    }\n",
       "\n",
       "    .dataframe thead th {\n",
       "        text-align: right;\n",
       "    }\n",
       "</style>\n",
       "<table border=\"1\" class=\"dataframe\">\n",
       "  <thead>\n",
       "    <tr style=\"text-align: right;\">\n",
       "      <th></th>\n",
       "      <th>2025-01-01</th>\n",
       "      <th>2025-01-02</th>\n",
       "      <th>2025-01-03</th>\n",
       "      <th>2025-01-04</th>\n",
       "      <th>2025-01-05</th>\n",
       "      <th>2025-01-06</th>\n",
       "    </tr>\n",
       "  </thead>\n",
       "  <tbody>\n",
       "    <tr>\n",
       "      <th>A</th>\n",
       "      <td>-0.026527</td>\n",
       "      <td>1.041708</td>\n",
       "      <td>1.220726</td>\n",
       "      <td>1.091509</td>\n",
       "      <td>2.632787</td>\n",
       "      <td>0.631203</td>\n",
       "    </tr>\n",
       "    <tr>\n",
       "      <th>B</th>\n",
       "      <td>-0.015031</td>\n",
       "      <td>-1.650464</td>\n",
       "      <td>0.738887</td>\n",
       "      <td>1.967964</td>\n",
       "      <td>1.058175</td>\n",
       "      <td>-0.386878</td>\n",
       "    </tr>\n",
       "    <tr>\n",
       "      <th>C</th>\n",
       "      <td>0.677819</td>\n",
       "      <td>1.267820</td>\n",
       "      <td>-0.970610</td>\n",
       "      <td>1.785499</td>\n",
       "      <td>1.275991</td>\n",
       "      <td>0.327058</td>\n",
       "    </tr>\n",
       "    <tr>\n",
       "      <th>D</th>\n",
       "      <td>-0.788622</td>\n",
       "      <td>-0.925160</td>\n",
       "      <td>-1.693516</td>\n",
       "      <td>-2.316161</td>\n",
       "      <td>1.025387</td>\n",
       "      <td>-0.746183</td>\n",
       "    </tr>\n",
       "  </tbody>\n",
       "</table>\n",
       "</div>"
      ],
      "text/plain": [
       "   2025-01-01  2025-01-02  2025-01-03  2025-01-04  2025-01-05  2025-01-06\n",
       "A   -0.026527    1.041708    1.220726    1.091509    2.632787    0.631203\n",
       "B   -0.015031   -1.650464    0.738887    1.967964    1.058175   -0.386878\n",
       "C    0.677819    1.267820   -0.970610    1.785499    1.275991    0.327058\n",
       "D   -0.788622   -0.925160   -1.693516   -2.316161    1.025387   -0.746183"
      ]
     },
     "execution_count": 9,
     "metadata": {},
     "output_type": "execute_result"
    }
   ],
   "source": [
    "df.T"
   ]
  },
  {
   "cell_type": "code",
   "execution_count": 12,
   "id": "4931e495-70e1-4ca8-90e9-7b1a1721d5b4",
   "metadata": {},
   "outputs": [
    {
     "data": {
      "text/html": [
       "<div>\n",
       "<style scoped>\n",
       "    .dataframe tbody tr th:only-of-type {\n",
       "        vertical-align: middle;\n",
       "    }\n",
       "\n",
       "    .dataframe tbody tr th {\n",
       "        vertical-align: top;\n",
       "    }\n",
       "\n",
       "    .dataframe thead th {\n",
       "        text-align: right;\n",
       "    }\n",
       "</style>\n",
       "<table border=\"1\" class=\"dataframe\">\n",
       "  <thead>\n",
       "    <tr style=\"text-align: right;\">\n",
       "      <th></th>\n",
       "      <th>D</th>\n",
       "      <th>C</th>\n",
       "      <th>B</th>\n",
       "      <th>A</th>\n",
       "    </tr>\n",
       "  </thead>\n",
       "  <tbody>\n",
       "    <tr>\n",
       "      <th>2025-01-01</th>\n",
       "      <td>-0.788622</td>\n",
       "      <td>0.677819</td>\n",
       "      <td>-0.015031</td>\n",
       "      <td>-0.026527</td>\n",
       "    </tr>\n",
       "    <tr>\n",
       "      <th>2025-01-02</th>\n",
       "      <td>-0.925160</td>\n",
       "      <td>1.267820</td>\n",
       "      <td>-1.650464</td>\n",
       "      <td>1.041708</td>\n",
       "    </tr>\n",
       "    <tr>\n",
       "      <th>2025-01-03</th>\n",
       "      <td>-1.693516</td>\n",
       "      <td>-0.970610</td>\n",
       "      <td>0.738887</td>\n",
       "      <td>1.220726</td>\n",
       "    </tr>\n",
       "    <tr>\n",
       "      <th>2025-01-04</th>\n",
       "      <td>-2.316161</td>\n",
       "      <td>1.785499</td>\n",
       "      <td>1.967964</td>\n",
       "      <td>1.091509</td>\n",
       "    </tr>\n",
       "    <tr>\n",
       "      <th>2025-01-05</th>\n",
       "      <td>1.025387</td>\n",
       "      <td>1.275991</td>\n",
       "      <td>1.058175</td>\n",
       "      <td>2.632787</td>\n",
       "    </tr>\n",
       "    <tr>\n",
       "      <th>2025-01-06</th>\n",
       "      <td>-0.746183</td>\n",
       "      <td>0.327058</td>\n",
       "      <td>-0.386878</td>\n",
       "      <td>0.631203</td>\n",
       "    </tr>\n",
       "  </tbody>\n",
       "</table>\n",
       "</div>"
      ],
      "text/plain": [
       "                   D         C         B         A\n",
       "2025-01-01 -0.788622  0.677819 -0.015031 -0.026527\n",
       "2025-01-02 -0.925160  1.267820 -1.650464  1.041708\n",
       "2025-01-03 -1.693516 -0.970610  0.738887  1.220726\n",
       "2025-01-04 -2.316161  1.785499  1.967964  1.091509\n",
       "2025-01-05  1.025387  1.275991  1.058175  2.632787\n",
       "2025-01-06 -0.746183  0.327058 -0.386878  0.631203"
      ]
     },
     "execution_count": 12,
     "metadata": {},
     "output_type": "execute_result"
    }
   ],
   "source": [
    "df.sort_index(axis=1, ascending=False)"
   ]
  },
  {
   "cell_type": "code",
   "execution_count": 13,
   "id": "ecd8a50a-2b0d-4e31-8966-ce07d21db9ad",
   "metadata": {},
   "outputs": [
    {
     "data": {
      "text/html": [
       "<div>\n",
       "<style scoped>\n",
       "    .dataframe tbody tr th:only-of-type {\n",
       "        vertical-align: middle;\n",
       "    }\n",
       "\n",
       "    .dataframe tbody tr th {\n",
       "        vertical-align: top;\n",
       "    }\n",
       "\n",
       "    .dataframe thead th {\n",
       "        text-align: right;\n",
       "    }\n",
       "</style>\n",
       "<table border=\"1\" class=\"dataframe\">\n",
       "  <thead>\n",
       "    <tr style=\"text-align: right;\">\n",
       "      <th></th>\n",
       "      <th>A</th>\n",
       "      <th>B</th>\n",
       "      <th>C</th>\n",
       "      <th>D</th>\n",
       "    </tr>\n",
       "  </thead>\n",
       "  <tbody>\n",
       "    <tr>\n",
       "      <th>2025-01-02</th>\n",
       "      <td>1.041708</td>\n",
       "      <td>-1.650464</td>\n",
       "      <td>1.267820</td>\n",
       "      <td>-0.925160</td>\n",
       "    </tr>\n",
       "    <tr>\n",
       "      <th>2025-01-06</th>\n",
       "      <td>0.631203</td>\n",
       "      <td>-0.386878</td>\n",
       "      <td>0.327058</td>\n",
       "      <td>-0.746183</td>\n",
       "    </tr>\n",
       "    <tr>\n",
       "      <th>2025-01-01</th>\n",
       "      <td>-0.026527</td>\n",
       "      <td>-0.015031</td>\n",
       "      <td>0.677819</td>\n",
       "      <td>-0.788622</td>\n",
       "    </tr>\n",
       "    <tr>\n",
       "      <th>2025-01-03</th>\n",
       "      <td>1.220726</td>\n",
       "      <td>0.738887</td>\n",
       "      <td>-0.970610</td>\n",
       "      <td>-1.693516</td>\n",
       "    </tr>\n",
       "    <tr>\n",
       "      <th>2025-01-05</th>\n",
       "      <td>2.632787</td>\n",
       "      <td>1.058175</td>\n",
       "      <td>1.275991</td>\n",
       "      <td>1.025387</td>\n",
       "    </tr>\n",
       "    <tr>\n",
       "      <th>2025-01-04</th>\n",
       "      <td>1.091509</td>\n",
       "      <td>1.967964</td>\n",
       "      <td>1.785499</td>\n",
       "      <td>-2.316161</td>\n",
       "    </tr>\n",
       "  </tbody>\n",
       "</table>\n",
       "</div>"
      ],
      "text/plain": [
       "                   A         B         C         D\n",
       "2025-01-02  1.041708 -1.650464  1.267820 -0.925160\n",
       "2025-01-06  0.631203 -0.386878  0.327058 -0.746183\n",
       "2025-01-01 -0.026527 -0.015031  0.677819 -0.788622\n",
       "2025-01-03  1.220726  0.738887 -0.970610 -1.693516\n",
       "2025-01-05  2.632787  1.058175  1.275991  1.025387\n",
       "2025-01-04  1.091509  1.967964  1.785499 -2.316161"
      ]
     },
     "execution_count": 13,
     "metadata": {},
     "output_type": "execute_result"
    }
   ],
   "source": [
    "df.sort_values(by='B')"
   ]
  },
  {
   "cell_type": "code",
   "execution_count": 14,
   "id": "18adfa0e-3189-4b8b-99b8-f9433a3573bd",
   "metadata": {},
   "outputs": [
    {
     "data": {
      "text/plain": [
       "2025-01-01   -0.026527\n",
       "2025-01-02    1.041708\n",
       "2025-01-03    1.220726\n",
       "2025-01-04    1.091509\n",
       "2025-01-05    2.632787\n",
       "2025-01-06    0.631203\n",
       "Freq: D, Name: A, dtype: float64"
      ]
     },
     "execution_count": 14,
     "metadata": {},
     "output_type": "execute_result"
    }
   ],
   "source": [
    "df['A']"
   ]
  },
  {
   "cell_type": "code",
   "execution_count": 15,
   "id": "38324a2e-4fd5-4b9a-bac0-fcf468868998",
   "metadata": {},
   "outputs": [
    {
     "data": {
      "text/html": [
       "<div>\n",
       "<style scoped>\n",
       "    .dataframe tbody tr th:only-of-type {\n",
       "        vertical-align: middle;\n",
       "    }\n",
       "\n",
       "    .dataframe tbody tr th {\n",
       "        vertical-align: top;\n",
       "    }\n",
       "\n",
       "    .dataframe thead th {\n",
       "        text-align: right;\n",
       "    }\n",
       "</style>\n",
       "<table border=\"1\" class=\"dataframe\">\n",
       "  <thead>\n",
       "    <tr style=\"text-align: right;\">\n",
       "      <th></th>\n",
       "      <th>A</th>\n",
       "      <th>B</th>\n",
       "      <th>C</th>\n",
       "      <th>D</th>\n",
       "    </tr>\n",
       "  </thead>\n",
       "  <tbody>\n",
       "    <tr>\n",
       "      <th>2025-01-01</th>\n",
       "      <td>-0.026527</td>\n",
       "      <td>-0.015031</td>\n",
       "      <td>0.677819</td>\n",
       "      <td>-0.788622</td>\n",
       "    </tr>\n",
       "    <tr>\n",
       "      <th>2025-01-02</th>\n",
       "      <td>1.041708</td>\n",
       "      <td>-1.650464</td>\n",
       "      <td>1.267820</td>\n",
       "      <td>-0.925160</td>\n",
       "    </tr>\n",
       "    <tr>\n",
       "      <th>2025-01-03</th>\n",
       "      <td>1.220726</td>\n",
       "      <td>0.738887</td>\n",
       "      <td>-0.970610</td>\n",
       "      <td>-1.693516</td>\n",
       "    </tr>\n",
       "  </tbody>\n",
       "</table>\n",
       "</div>"
      ],
      "text/plain": [
       "                   A         B         C         D\n",
       "2025-01-01 -0.026527 -0.015031  0.677819 -0.788622\n",
       "2025-01-02  1.041708 -1.650464  1.267820 -0.925160\n",
       "2025-01-03  1.220726  0.738887 -0.970610 -1.693516"
      ]
     },
     "execution_count": 15,
     "metadata": {},
     "output_type": "execute_result"
    }
   ],
   "source": [
    "df[0:3]"
   ]
  },
  {
   "cell_type": "code",
   "execution_count": 16,
   "id": "2375f521-7ce6-4bc3-ba0b-1d7780e235fd",
   "metadata": {},
   "outputs": [
    {
     "data": {
      "text/plain": [
       "A   -0.026527\n",
       "B   -0.015031\n",
       "C    0.677819\n",
       "D   -0.788622\n",
       "Name: 2025-01-01 00:00:00, dtype: float64"
      ]
     },
     "execution_count": 16,
     "metadata": {},
     "output_type": "execute_result"
    }
   ],
   "source": [
    "df.loc[dates[0]]"
   ]
  },
  {
   "cell_type": "code",
   "execution_count": 18,
   "id": "6253468b-705b-40a4-a2fc-249a9c1466a2",
   "metadata": {},
   "outputs": [
    {
     "data": {
      "text/plain": [
       "-0.026526876795842803"
      ]
     },
     "execution_count": 18,
     "metadata": {},
     "output_type": "execute_result"
    }
   ],
   "source": [
    "df.at[dates[0], \"A\"]"
   ]
  },
  {
   "cell_type": "code",
   "execution_count": 19,
   "id": "c956f1c7-9c99-4e94-b772-7643e3467b2b",
   "metadata": {},
   "outputs": [
    {
     "data": {
      "text/plain": [
       "A    1.091509\n",
       "B    1.967964\n",
       "C    1.785499\n",
       "D   -2.316161\n",
       "Name: 2025-01-04 00:00:00, dtype: float64"
      ]
     },
     "execution_count": 19,
     "metadata": {},
     "output_type": "execute_result"
    }
   ],
   "source": [
    "df.iloc[3]"
   ]
  },
  {
   "cell_type": "markdown",
   "id": "e736edee-7538-4b13-9360-f7018efc473f",
   "metadata": {},
   "source": [
    "# Boolean indexing"
   ]
  },
  {
   "cell_type": "code",
   "execution_count": 21,
   "id": "1f3379a8-af54-4133-a6bc-1b853bfd83fb",
   "metadata": {},
   "outputs": [
    {
     "data": {
      "text/html": [
       "<div>\n",
       "<style scoped>\n",
       "    .dataframe tbody tr th:only-of-type {\n",
       "        vertical-align: middle;\n",
       "    }\n",
       "\n",
       "    .dataframe tbody tr th {\n",
       "        vertical-align: top;\n",
       "    }\n",
       "\n",
       "    .dataframe thead th {\n",
       "        text-align: right;\n",
       "    }\n",
       "</style>\n",
       "<table border=\"1\" class=\"dataframe\">\n",
       "  <thead>\n",
       "    <tr style=\"text-align: right;\">\n",
       "      <th></th>\n",
       "      <th>A</th>\n",
       "      <th>B</th>\n",
       "      <th>C</th>\n",
       "      <th>D</th>\n",
       "    </tr>\n",
       "  </thead>\n",
       "  <tbody>\n",
       "    <tr>\n",
       "      <th>2025-01-02</th>\n",
       "      <td>1.041708</td>\n",
       "      <td>-1.650464</td>\n",
       "      <td>1.267820</td>\n",
       "      <td>-0.925160</td>\n",
       "    </tr>\n",
       "    <tr>\n",
       "      <th>2025-01-03</th>\n",
       "      <td>1.220726</td>\n",
       "      <td>0.738887</td>\n",
       "      <td>-0.970610</td>\n",
       "      <td>-1.693516</td>\n",
       "    </tr>\n",
       "    <tr>\n",
       "      <th>2025-01-04</th>\n",
       "      <td>1.091509</td>\n",
       "      <td>1.967964</td>\n",
       "      <td>1.785499</td>\n",
       "      <td>-2.316161</td>\n",
       "    </tr>\n",
       "    <tr>\n",
       "      <th>2025-01-05</th>\n",
       "      <td>2.632787</td>\n",
       "      <td>1.058175</td>\n",
       "      <td>1.275991</td>\n",
       "      <td>1.025387</td>\n",
       "    </tr>\n",
       "    <tr>\n",
       "      <th>2025-01-06</th>\n",
       "      <td>0.631203</td>\n",
       "      <td>-0.386878</td>\n",
       "      <td>0.327058</td>\n",
       "      <td>-0.746183</td>\n",
       "    </tr>\n",
       "  </tbody>\n",
       "</table>\n",
       "</div>"
      ],
      "text/plain": [
       "                   A         B         C         D\n",
       "2025-01-02  1.041708 -1.650464  1.267820 -0.925160\n",
       "2025-01-03  1.220726  0.738887 -0.970610 -1.693516\n",
       "2025-01-04  1.091509  1.967964  1.785499 -2.316161\n",
       "2025-01-05  2.632787  1.058175  1.275991  1.025387\n",
       "2025-01-06  0.631203 -0.386878  0.327058 -0.746183"
      ]
     },
     "execution_count": 21,
     "metadata": {},
     "output_type": "execute_result"
    }
   ],
   "source": [
    "df[df['A'] > 0]"
   ]
  },
  {
   "cell_type": "code",
   "execution_count": 22,
   "id": "d67aea88-befa-4677-8c12-97540e0b855f",
   "metadata": {},
   "outputs": [
    {
     "data": {
      "text/html": [
       "<div>\n",
       "<style scoped>\n",
       "    .dataframe tbody tr th:only-of-type {\n",
       "        vertical-align: middle;\n",
       "    }\n",
       "\n",
       "    .dataframe tbody tr th {\n",
       "        vertical-align: top;\n",
       "    }\n",
       "\n",
       "    .dataframe thead th {\n",
       "        text-align: right;\n",
       "    }\n",
       "</style>\n",
       "<table border=\"1\" class=\"dataframe\">\n",
       "  <thead>\n",
       "    <tr style=\"text-align: right;\">\n",
       "      <th></th>\n",
       "      <th>A</th>\n",
       "      <th>B</th>\n",
       "      <th>C</th>\n",
       "      <th>D</th>\n",
       "    </tr>\n",
       "  </thead>\n",
       "  <tbody>\n",
       "    <tr>\n",
       "      <th>2025-01-01</th>\n",
       "      <td>NaN</td>\n",
       "      <td>NaN</td>\n",
       "      <td>0.677819</td>\n",
       "      <td>NaN</td>\n",
       "    </tr>\n",
       "    <tr>\n",
       "      <th>2025-01-02</th>\n",
       "      <td>1.041708</td>\n",
       "      <td>NaN</td>\n",
       "      <td>1.267820</td>\n",
       "      <td>NaN</td>\n",
       "    </tr>\n",
       "    <tr>\n",
       "      <th>2025-01-03</th>\n",
       "      <td>1.220726</td>\n",
       "      <td>0.738887</td>\n",
       "      <td>NaN</td>\n",
       "      <td>NaN</td>\n",
       "    </tr>\n",
       "    <tr>\n",
       "      <th>2025-01-04</th>\n",
       "      <td>1.091509</td>\n",
       "      <td>1.967964</td>\n",
       "      <td>1.785499</td>\n",
       "      <td>NaN</td>\n",
       "    </tr>\n",
       "    <tr>\n",
       "      <th>2025-01-05</th>\n",
       "      <td>2.632787</td>\n",
       "      <td>1.058175</td>\n",
       "      <td>1.275991</td>\n",
       "      <td>1.025387</td>\n",
       "    </tr>\n",
       "    <tr>\n",
       "      <th>2025-01-06</th>\n",
       "      <td>0.631203</td>\n",
       "      <td>NaN</td>\n",
       "      <td>0.327058</td>\n",
       "      <td>NaN</td>\n",
       "    </tr>\n",
       "  </tbody>\n",
       "</table>\n",
       "</div>"
      ],
      "text/plain": [
       "                   A         B         C         D\n",
       "2025-01-01       NaN       NaN  0.677819       NaN\n",
       "2025-01-02  1.041708       NaN  1.267820       NaN\n",
       "2025-01-03  1.220726  0.738887       NaN       NaN\n",
       "2025-01-04  1.091509  1.967964  1.785499       NaN\n",
       "2025-01-05  2.632787  1.058175  1.275991  1.025387\n",
       "2025-01-06  0.631203       NaN  0.327058       NaN"
      ]
     },
     "execution_count": 22,
     "metadata": {},
     "output_type": "execute_result"
    }
   ],
   "source": [
    "df[df > 0]"
   ]
  },
  {
   "cell_type": "code",
   "execution_count": 23,
   "id": "eb105323-406e-4976-b2bc-e915df0a4787",
   "metadata": {},
   "outputs": [
    {
     "data": {
      "text/html": [
       "<div>\n",
       "<style scoped>\n",
       "    .dataframe tbody tr th:only-of-type {\n",
       "        vertical-align: middle;\n",
       "    }\n",
       "\n",
       "    .dataframe tbody tr th {\n",
       "        vertical-align: top;\n",
       "    }\n",
       "\n",
       "    .dataframe thead th {\n",
       "        text-align: right;\n",
       "    }\n",
       "</style>\n",
       "<table border=\"1\" class=\"dataframe\">\n",
       "  <thead>\n",
       "    <tr style=\"text-align: right;\">\n",
       "      <th></th>\n",
       "      <th>A</th>\n",
       "      <th>B</th>\n",
       "      <th>C</th>\n",
       "      <th>D</th>\n",
       "      <th>E</th>\n",
       "    </tr>\n",
       "  </thead>\n",
       "  <tbody>\n",
       "    <tr>\n",
       "      <th>2025-01-01</th>\n",
       "      <td>-0.026527</td>\n",
       "      <td>-0.015031</td>\n",
       "      <td>0.677819</td>\n",
       "      <td>-0.788622</td>\n",
       "      <td>one</td>\n",
       "    </tr>\n",
       "    <tr>\n",
       "      <th>2025-01-02</th>\n",
       "      <td>1.041708</td>\n",
       "      <td>-1.650464</td>\n",
       "      <td>1.267820</td>\n",
       "      <td>-0.925160</td>\n",
       "      <td>one</td>\n",
       "    </tr>\n",
       "    <tr>\n",
       "      <th>2025-01-03</th>\n",
       "      <td>1.220726</td>\n",
       "      <td>0.738887</td>\n",
       "      <td>-0.970610</td>\n",
       "      <td>-1.693516</td>\n",
       "      <td>two</td>\n",
       "    </tr>\n",
       "    <tr>\n",
       "      <th>2025-01-04</th>\n",
       "      <td>1.091509</td>\n",
       "      <td>1.967964</td>\n",
       "      <td>1.785499</td>\n",
       "      <td>-2.316161</td>\n",
       "      <td>three</td>\n",
       "    </tr>\n",
       "    <tr>\n",
       "      <th>2025-01-05</th>\n",
       "      <td>2.632787</td>\n",
       "      <td>1.058175</td>\n",
       "      <td>1.275991</td>\n",
       "      <td>1.025387</td>\n",
       "      <td>four</td>\n",
       "    </tr>\n",
       "    <tr>\n",
       "      <th>2025-01-06</th>\n",
       "      <td>0.631203</td>\n",
       "      <td>-0.386878</td>\n",
       "      <td>0.327058</td>\n",
       "      <td>-0.746183</td>\n",
       "      <td>three</td>\n",
       "    </tr>\n",
       "  </tbody>\n",
       "</table>\n",
       "</div>"
      ],
      "text/plain": [
       "                   A         B         C         D      E\n",
       "2025-01-01 -0.026527 -0.015031  0.677819 -0.788622    one\n",
       "2025-01-02  1.041708 -1.650464  1.267820 -0.925160    one\n",
       "2025-01-03  1.220726  0.738887 -0.970610 -1.693516    two\n",
       "2025-01-04  1.091509  1.967964  1.785499 -2.316161  three\n",
       "2025-01-05  2.632787  1.058175  1.275991  1.025387   four\n",
       "2025-01-06  0.631203 -0.386878  0.327058 -0.746183  three"
      ]
     },
     "execution_count": 23,
     "metadata": {},
     "output_type": "execute_result"
    }
   ],
   "source": [
    "df2 = df.copy()\n",
    "df2[\"E\"] = [\"one\", \"one\", \"two\", \"three\", \"four\", \"three\"]\n",
    "df2"
   ]
  },
  {
   "cell_type": "code",
   "execution_count": 24,
   "id": "81cef497-daf4-418c-ab4a-157c8b225202",
   "metadata": {},
   "outputs": [
    {
     "data": {
      "text/html": [
       "<div>\n",
       "<style scoped>\n",
       "    .dataframe tbody tr th:only-of-type {\n",
       "        vertical-align: middle;\n",
       "    }\n",
       "\n",
       "    .dataframe tbody tr th {\n",
       "        vertical-align: top;\n",
       "    }\n",
       "\n",
       "    .dataframe thead th {\n",
       "        text-align: right;\n",
       "    }\n",
       "</style>\n",
       "<table border=\"1\" class=\"dataframe\">\n",
       "  <thead>\n",
       "    <tr style=\"text-align: right;\">\n",
       "      <th></th>\n",
       "      <th>A</th>\n",
       "      <th>B</th>\n",
       "      <th>C</th>\n",
       "      <th>D</th>\n",
       "      <th>E</th>\n",
       "    </tr>\n",
       "  </thead>\n",
       "  <tbody>\n",
       "    <tr>\n",
       "      <th>2025-01-03</th>\n",
       "      <td>1.220726</td>\n",
       "      <td>0.738887</td>\n",
       "      <td>-0.970610</td>\n",
       "      <td>-1.693516</td>\n",
       "      <td>two</td>\n",
       "    </tr>\n",
       "    <tr>\n",
       "      <th>2025-01-05</th>\n",
       "      <td>2.632787</td>\n",
       "      <td>1.058175</td>\n",
       "      <td>1.275991</td>\n",
       "      <td>1.025387</td>\n",
       "      <td>four</td>\n",
       "    </tr>\n",
       "  </tbody>\n",
       "</table>\n",
       "</div>"
      ],
      "text/plain": [
       "                   A         B         C         D     E\n",
       "2025-01-03  1.220726  0.738887 -0.970610 -1.693516   two\n",
       "2025-01-05  2.632787  1.058175  1.275991  1.025387  four"
      ]
     },
     "execution_count": 24,
     "metadata": {},
     "output_type": "execute_result"
    }
   ],
   "source": [
    "df2[df2[\"E\"].isin([\"two\", \"four\"])]"
   ]
  },
  {
   "cell_type": "code",
   "execution_count": 25,
   "id": "30642dec-fce6-45cf-bc04-a48085ba74df",
   "metadata": {},
   "outputs": [
    {
     "data": {
      "text/plain": [
       "A    1.098568\n",
       "B    0.285442\n",
       "C    0.727263\n",
       "D   -0.907376\n",
       "dtype: float64"
      ]
     },
     "execution_count": 25,
     "metadata": {},
     "output_type": "execute_result"
    }
   ],
   "source": [
    "df.mean()"
   ]
  },
  {
   "cell_type": "code",
   "execution_count": 26,
   "id": "112a1744-e7d6-4a7f-a85b-c366532a030c",
   "metadata": {},
   "outputs": [
    {
     "data": {
      "text/plain": [
       "2025-01-01   -0.038090\n",
       "2025-01-02   -0.066524\n",
       "2025-01-03   -0.176128\n",
       "2025-01-04    0.632203\n",
       "2025-01-05    1.498085\n",
       "2025-01-06   -0.043700\n",
       "Freq: D, dtype: float64"
      ]
     },
     "execution_count": 26,
     "metadata": {},
     "output_type": "execute_result"
    }
   ],
   "source": [
    "df.mean(axis=1)"
   ]
  },
  {
   "cell_type": "code",
   "execution_count": 28,
   "id": "f137b634-97d1-4be0-b758-55f3b4857b90",
   "metadata": {},
   "outputs": [
    {
     "data": {
      "text/plain": [
       "2025-01-01    NaN\n",
       "2025-01-02    1.0\n",
       "2025-01-03    3.0\n",
       "2025-01-04    5.0\n",
       "2025-01-05    NaN\n",
       "2025-01-06    6.0\n",
       "Freq: D, dtype: float64"
      ]
     },
     "execution_count": 28,
     "metadata": {},
     "output_type": "execute_result"
    }
   ],
   "source": [
    "s = pd.Series([1, 3, 5, np.nan, 6, 8], index=dates).shift(1)\n",
    "s"
   ]
  },
  {
   "cell_type": "code",
   "execution_count": 29,
   "id": "669e50dc-ec69-499e-863f-7f7445ad6aba",
   "metadata": {},
   "outputs": [
    {
     "data": {
      "text/html": [
       "<div>\n",
       "<style scoped>\n",
       "    .dataframe tbody tr th:only-of-type {\n",
       "        vertical-align: middle;\n",
       "    }\n",
       "\n",
       "    .dataframe tbody tr th {\n",
       "        vertical-align: top;\n",
       "    }\n",
       "\n",
       "    .dataframe thead th {\n",
       "        text-align: right;\n",
       "    }\n",
       "</style>\n",
       "<table border=\"1\" class=\"dataframe\">\n",
       "  <thead>\n",
       "    <tr style=\"text-align: right;\">\n",
       "      <th></th>\n",
       "      <th>A</th>\n",
       "      <th>B</th>\n",
       "      <th>C</th>\n",
       "      <th>D</th>\n",
       "    </tr>\n",
       "  </thead>\n",
       "  <tbody>\n",
       "    <tr>\n",
       "      <th>2025-01-01</th>\n",
       "      <td>NaN</td>\n",
       "      <td>NaN</td>\n",
       "      <td>NaN</td>\n",
       "      <td>NaN</td>\n",
       "    </tr>\n",
       "    <tr>\n",
       "      <th>2025-01-02</th>\n",
       "      <td>0.041708</td>\n",
       "      <td>-2.650464</td>\n",
       "      <td>0.267820</td>\n",
       "      <td>-1.925160</td>\n",
       "    </tr>\n",
       "    <tr>\n",
       "      <th>2025-01-03</th>\n",
       "      <td>-1.779274</td>\n",
       "      <td>-2.261113</td>\n",
       "      <td>-3.970610</td>\n",
       "      <td>-4.693516</td>\n",
       "    </tr>\n",
       "    <tr>\n",
       "      <th>2025-01-04</th>\n",
       "      <td>-3.908491</td>\n",
       "      <td>-3.032036</td>\n",
       "      <td>-3.214501</td>\n",
       "      <td>-7.316161</td>\n",
       "    </tr>\n",
       "    <tr>\n",
       "      <th>2025-01-05</th>\n",
       "      <td>NaN</td>\n",
       "      <td>NaN</td>\n",
       "      <td>NaN</td>\n",
       "      <td>NaN</td>\n",
       "    </tr>\n",
       "    <tr>\n",
       "      <th>2025-01-06</th>\n",
       "      <td>-5.368797</td>\n",
       "      <td>-6.386878</td>\n",
       "      <td>-5.672942</td>\n",
       "      <td>-6.746183</td>\n",
       "    </tr>\n",
       "  </tbody>\n",
       "</table>\n",
       "</div>"
      ],
      "text/plain": [
       "                   A         B         C         D\n",
       "2025-01-01       NaN       NaN       NaN       NaN\n",
       "2025-01-02  0.041708 -2.650464  0.267820 -1.925160\n",
       "2025-01-03 -1.779274 -2.261113 -3.970610 -4.693516\n",
       "2025-01-04 -3.908491 -3.032036 -3.214501 -7.316161\n",
       "2025-01-05       NaN       NaN       NaN       NaN\n",
       "2025-01-06 -5.368797 -6.386878 -5.672942 -6.746183"
      ]
     },
     "execution_count": 29,
     "metadata": {},
     "output_type": "execute_result"
    }
   ],
   "source": [
    "df.sub(s, axis=\"index\")"
   ]
  },
  {
   "cell_type": "code",
   "execution_count": 30,
   "id": "8c292883-e055-43ef-9dcd-863ae6e4946e",
   "metadata": {},
   "outputs": [
    {
     "data": {
      "text/plain": [
       "A    6.151979\n",
       "B    1.598476\n",
       "C    4.072672\n",
       "D   -5.081304\n",
       "dtype: float64"
      ]
     },
     "execution_count": 30,
     "metadata": {},
     "output_type": "execute_result"
    }
   ],
   "source": [
    "df.agg(lambda x: np.mean(x) * 5.6)"
   ]
  },
  {
   "cell_type": "code",
   "execution_count": 31,
   "id": "2b5cef4d-9b17-4211-8ea7-adca3853a0cf",
   "metadata": {},
   "outputs": [
    {
     "data": {
      "text/html": [
       "<div>\n",
       "<style scoped>\n",
       "    .dataframe tbody tr th:only-of-type {\n",
       "        vertical-align: middle;\n",
       "    }\n",
       "\n",
       "    .dataframe tbody tr th {\n",
       "        vertical-align: top;\n",
       "    }\n",
       "\n",
       "    .dataframe thead th {\n",
       "        text-align: right;\n",
       "    }\n",
       "</style>\n",
       "<table border=\"1\" class=\"dataframe\">\n",
       "  <thead>\n",
       "    <tr style=\"text-align: right;\">\n",
       "      <th></th>\n",
       "      <th>A</th>\n",
       "      <th>B</th>\n",
       "      <th>C</th>\n",
       "      <th>D</th>\n",
       "    </tr>\n",
       "  </thead>\n",
       "  <tbody>\n",
       "    <tr>\n",
       "      <th>2025-01-01</th>\n",
       "      <td>-2.684520</td>\n",
       "      <td>-1.521116</td>\n",
       "      <td>68.595299</td>\n",
       "      <td>-79.808507</td>\n",
       "    </tr>\n",
       "    <tr>\n",
       "      <th>2025-01-02</th>\n",
       "      <td>105.420824</td>\n",
       "      <td>-167.027004</td>\n",
       "      <td>128.303427</td>\n",
       "      <td>-93.626192</td>\n",
       "    </tr>\n",
       "    <tr>\n",
       "      <th>2025-01-03</th>\n",
       "      <td>123.537478</td>\n",
       "      <td>74.775358</td>\n",
       "      <td>-98.225744</td>\n",
       "      <td>-171.383815</td>\n",
       "    </tr>\n",
       "    <tr>\n",
       "      <th>2025-01-04</th>\n",
       "      <td>110.460682</td>\n",
       "      <td>199.157913</td>\n",
       "      <td>180.692513</td>\n",
       "      <td>-234.395479</td>\n",
       "    </tr>\n",
       "    <tr>\n",
       "      <th>2025-01-05</th>\n",
       "      <td>266.438078</td>\n",
       "      <td>107.087354</td>\n",
       "      <td>129.130300</td>\n",
       "      <td>103.769133</td>\n",
       "    </tr>\n",
       "    <tr>\n",
       "      <th>2025-01-06</th>\n",
       "      <td>63.877736</td>\n",
       "      <td>-39.152040</td>\n",
       "      <td>33.098234</td>\n",
       "      <td>-75.513706</td>\n",
       "    </tr>\n",
       "  </tbody>\n",
       "</table>\n",
       "</div>"
      ],
      "text/plain": [
       "                     A           B           C           D\n",
       "2025-01-01   -2.684520   -1.521116   68.595299  -79.808507\n",
       "2025-01-02  105.420824 -167.027004  128.303427  -93.626192\n",
       "2025-01-03  123.537478   74.775358  -98.225744 -171.383815\n",
       "2025-01-04  110.460682  199.157913  180.692513 -234.395479\n",
       "2025-01-05  266.438078  107.087354  129.130300  103.769133\n",
       "2025-01-06   63.877736  -39.152040   33.098234  -75.513706"
      ]
     },
     "execution_count": 31,
     "metadata": {},
     "output_type": "execute_result"
    }
   ],
   "source": [
    "df.transform(lambda x: x * 101.2)"
   ]
  },
  {
   "cell_type": "code",
   "execution_count": 32,
   "id": "16617de1-4f12-4665-96e3-ee71cde2aa3c",
   "metadata": {},
   "outputs": [
    {
     "data": {
      "text/plain": [
       "0    6\n",
       "1    1\n",
       "2    1\n",
       "3    1\n",
       "4    5\n",
       "5    2\n",
       "6    6\n",
       "7    4\n",
       "8    4\n",
       "9    6\n",
       "dtype: int64"
      ]
     },
     "execution_count": 32,
     "metadata": {},
     "output_type": "execute_result"
    }
   ],
   "source": [
    "s = pd.Series(np.random.randint(0, 7, size=10))\n",
    "s"
   ]
  },
  {
   "cell_type": "code",
   "execution_count": 33,
   "id": "aa5518a9-203f-4e52-8b8e-4d0f3b72a31e",
   "metadata": {},
   "outputs": [
    {
     "data": {
      "text/plain": [
       "6    3\n",
       "1    3\n",
       "4    2\n",
       "5    1\n",
       "2    1\n",
       "Name: count, dtype: int64"
      ]
     },
     "execution_count": 33,
     "metadata": {},
     "output_type": "execute_result"
    }
   ],
   "source": [
    "s.value_counts()"
   ]
  },
  {
   "cell_type": "markdown",
   "id": "b8940b70-4e90-4f55-848f-867b3dcbf7ef",
   "metadata": {},
   "source": [
    "# Merge"
   ]
  },
  {
   "cell_type": "code",
   "execution_count": 34,
   "id": "5f3265ba-9f2a-42b5-9596-32e2bc08a144",
   "metadata": {},
   "outputs": [
    {
     "data": {
      "text/html": [
       "<div>\n",
       "<style scoped>\n",
       "    .dataframe tbody tr th:only-of-type {\n",
       "        vertical-align: middle;\n",
       "    }\n",
       "\n",
       "    .dataframe tbody tr th {\n",
       "        vertical-align: top;\n",
       "    }\n",
       "\n",
       "    .dataframe thead th {\n",
       "        text-align: right;\n",
       "    }\n",
       "</style>\n",
       "<table border=\"1\" class=\"dataframe\">\n",
       "  <thead>\n",
       "    <tr style=\"text-align: right;\">\n",
       "      <th></th>\n",
       "      <th>0</th>\n",
       "      <th>1</th>\n",
       "      <th>2</th>\n",
       "      <th>3</th>\n",
       "    </tr>\n",
       "  </thead>\n",
       "  <tbody>\n",
       "    <tr>\n",
       "      <th>0</th>\n",
       "      <td>1.455533</td>\n",
       "      <td>0.644116</td>\n",
       "      <td>0.860738</td>\n",
       "      <td>0.772719</td>\n",
       "    </tr>\n",
       "    <tr>\n",
       "      <th>1</th>\n",
       "      <td>0.964607</td>\n",
       "      <td>-0.756267</td>\n",
       "      <td>0.329009</td>\n",
       "      <td>0.437942</td>\n",
       "    </tr>\n",
       "    <tr>\n",
       "      <th>2</th>\n",
       "      <td>-1.217523</td>\n",
       "      <td>1.034979</td>\n",
       "      <td>1.036112</td>\n",
       "      <td>-1.209801</td>\n",
       "    </tr>\n",
       "    <tr>\n",
       "      <th>3</th>\n",
       "      <td>0.142338</td>\n",
       "      <td>-1.236631</td>\n",
       "      <td>-0.486688</td>\n",
       "      <td>0.370110</td>\n",
       "    </tr>\n",
       "    <tr>\n",
       "      <th>4</th>\n",
       "      <td>-0.604451</td>\n",
       "      <td>-1.653370</td>\n",
       "      <td>-0.524062</td>\n",
       "      <td>0.393779</td>\n",
       "    </tr>\n",
       "    <tr>\n",
       "      <th>5</th>\n",
       "      <td>0.161852</td>\n",
       "      <td>1.473377</td>\n",
       "      <td>-0.040677</td>\n",
       "      <td>-0.655030</td>\n",
       "    </tr>\n",
       "    <tr>\n",
       "      <th>6</th>\n",
       "      <td>0.647458</td>\n",
       "      <td>-0.290724</td>\n",
       "      <td>0.195938</td>\n",
       "      <td>-0.467784</td>\n",
       "    </tr>\n",
       "    <tr>\n",
       "      <th>7</th>\n",
       "      <td>-1.568411</td>\n",
       "      <td>-1.290597</td>\n",
       "      <td>-1.947830</td>\n",
       "      <td>1.127255</td>\n",
       "    </tr>\n",
       "    <tr>\n",
       "      <th>8</th>\n",
       "      <td>-2.074071</td>\n",
       "      <td>1.644518</td>\n",
       "      <td>2.032140</td>\n",
       "      <td>-0.132579</td>\n",
       "    </tr>\n",
       "    <tr>\n",
       "      <th>9</th>\n",
       "      <td>-2.047475</td>\n",
       "      <td>-0.509086</td>\n",
       "      <td>-0.076457</td>\n",
       "      <td>1.276365</td>\n",
       "    </tr>\n",
       "  </tbody>\n",
       "</table>\n",
       "</div>"
      ],
      "text/plain": [
       "          0         1         2         3\n",
       "0  1.455533  0.644116  0.860738  0.772719\n",
       "1  0.964607 -0.756267  0.329009  0.437942\n",
       "2 -1.217523  1.034979  1.036112 -1.209801\n",
       "3  0.142338 -1.236631 -0.486688  0.370110\n",
       "4 -0.604451 -1.653370 -0.524062  0.393779\n",
       "5  0.161852  1.473377 -0.040677 -0.655030\n",
       "6  0.647458 -0.290724  0.195938 -0.467784\n",
       "7 -1.568411 -1.290597 -1.947830  1.127255\n",
       "8 -2.074071  1.644518  2.032140 -0.132579\n",
       "9 -2.047475 -0.509086 -0.076457  1.276365"
      ]
     },
     "execution_count": 34,
     "metadata": {},
     "output_type": "execute_result"
    }
   ],
   "source": [
    "df = pd.DataFrame(np.random.randn(10, 4))\n",
    "df"
   ]
  },
  {
   "cell_type": "code",
   "execution_count": 35,
   "id": "581f4461-212f-4f56-9465-e8c90907f6a8",
   "metadata": {},
   "outputs": [
    {
     "data": {
      "text/plain": [
       "[          0         1         2         3\n",
       " 0  1.455533  0.644116  0.860738  0.772719\n",
       " 1  0.964607 -0.756267  0.329009  0.437942\n",
       " 2 -1.217523  1.034979  1.036112 -1.209801,\n",
       "           0         1         2         3\n",
       " 3  0.142338 -1.236631 -0.486688  0.370110\n",
       " 4 -0.604451 -1.653370 -0.524062  0.393779\n",
       " 5  0.161852  1.473377 -0.040677 -0.655030\n",
       " 6  0.647458 -0.290724  0.195938 -0.467784,\n",
       "           0         1         2         3\n",
       " 7 -1.568411 -1.290597 -1.947830  1.127255\n",
       " 8 -2.074071  1.644518  2.032140 -0.132579\n",
       " 9 -2.047475 -0.509086 -0.076457  1.276365]"
      ]
     },
     "execution_count": 35,
     "metadata": {},
     "output_type": "execute_result"
    }
   ],
   "source": [
    "pieces = [df[:3], df[3:7], df[7:]]\n",
    "pieces"
   ]
  },
  {
   "cell_type": "code",
   "execution_count": 36,
   "id": "7d93f6b3-236c-4ea3-9084-5da40ca0e124",
   "metadata": {},
   "outputs": [
    {
     "data": {
      "text/html": [
       "<div>\n",
       "<style scoped>\n",
       "    .dataframe tbody tr th:only-of-type {\n",
       "        vertical-align: middle;\n",
       "    }\n",
       "\n",
       "    .dataframe tbody tr th {\n",
       "        vertical-align: top;\n",
       "    }\n",
       "\n",
       "    .dataframe thead th {\n",
       "        text-align: right;\n",
       "    }\n",
       "</style>\n",
       "<table border=\"1\" class=\"dataframe\">\n",
       "  <thead>\n",
       "    <tr style=\"text-align: right;\">\n",
       "      <th></th>\n",
       "      <th>0</th>\n",
       "      <th>1</th>\n",
       "      <th>2</th>\n",
       "      <th>3</th>\n",
       "    </tr>\n",
       "  </thead>\n",
       "  <tbody>\n",
       "    <tr>\n",
       "      <th>0</th>\n",
       "      <td>1.455533</td>\n",
       "      <td>0.644116</td>\n",
       "      <td>0.860738</td>\n",
       "      <td>0.772719</td>\n",
       "    </tr>\n",
       "    <tr>\n",
       "      <th>1</th>\n",
       "      <td>0.964607</td>\n",
       "      <td>-0.756267</td>\n",
       "      <td>0.329009</td>\n",
       "      <td>0.437942</td>\n",
       "    </tr>\n",
       "    <tr>\n",
       "      <th>2</th>\n",
       "      <td>-1.217523</td>\n",
       "      <td>1.034979</td>\n",
       "      <td>1.036112</td>\n",
       "      <td>-1.209801</td>\n",
       "    </tr>\n",
       "    <tr>\n",
       "      <th>3</th>\n",
       "      <td>0.142338</td>\n",
       "      <td>-1.236631</td>\n",
       "      <td>-0.486688</td>\n",
       "      <td>0.370110</td>\n",
       "    </tr>\n",
       "    <tr>\n",
       "      <th>4</th>\n",
       "      <td>-0.604451</td>\n",
       "      <td>-1.653370</td>\n",
       "      <td>-0.524062</td>\n",
       "      <td>0.393779</td>\n",
       "    </tr>\n",
       "    <tr>\n",
       "      <th>5</th>\n",
       "      <td>0.161852</td>\n",
       "      <td>1.473377</td>\n",
       "      <td>-0.040677</td>\n",
       "      <td>-0.655030</td>\n",
       "    </tr>\n",
       "    <tr>\n",
       "      <th>6</th>\n",
       "      <td>0.647458</td>\n",
       "      <td>-0.290724</td>\n",
       "      <td>0.195938</td>\n",
       "      <td>-0.467784</td>\n",
       "    </tr>\n",
       "    <tr>\n",
       "      <th>7</th>\n",
       "      <td>-1.568411</td>\n",
       "      <td>-1.290597</td>\n",
       "      <td>-1.947830</td>\n",
       "      <td>1.127255</td>\n",
       "    </tr>\n",
       "    <tr>\n",
       "      <th>8</th>\n",
       "      <td>-2.074071</td>\n",
       "      <td>1.644518</td>\n",
       "      <td>2.032140</td>\n",
       "      <td>-0.132579</td>\n",
       "    </tr>\n",
       "    <tr>\n",
       "      <th>9</th>\n",
       "      <td>-2.047475</td>\n",
       "      <td>-0.509086</td>\n",
       "      <td>-0.076457</td>\n",
       "      <td>1.276365</td>\n",
       "    </tr>\n",
       "  </tbody>\n",
       "</table>\n",
       "</div>"
      ],
      "text/plain": [
       "          0         1         2         3\n",
       "0  1.455533  0.644116  0.860738  0.772719\n",
       "1  0.964607 -0.756267  0.329009  0.437942\n",
       "2 -1.217523  1.034979  1.036112 -1.209801\n",
       "3  0.142338 -1.236631 -0.486688  0.370110\n",
       "4 -0.604451 -1.653370 -0.524062  0.393779\n",
       "5  0.161852  1.473377 -0.040677 -0.655030\n",
       "6  0.647458 -0.290724  0.195938 -0.467784\n",
       "7 -1.568411 -1.290597 -1.947830  1.127255\n",
       "8 -2.074071  1.644518  2.032140 -0.132579\n",
       "9 -2.047475 -0.509086 -0.076457  1.276365"
      ]
     },
     "execution_count": 36,
     "metadata": {},
     "output_type": "execute_result"
    }
   ],
   "source": [
    "pd.concat(pieces)"
   ]
  },
  {
   "cell_type": "code",
   "execution_count": 38,
   "id": "cad02f4c-bc58-4b0a-bbed-8c91c1f43866",
   "metadata": {},
   "outputs": [
    {
     "data": {
      "text/html": [
       "<div>\n",
       "<style scoped>\n",
       "    .dataframe tbody tr th:only-of-type {\n",
       "        vertical-align: middle;\n",
       "    }\n",
       "\n",
       "    .dataframe tbody tr th {\n",
       "        vertical-align: top;\n",
       "    }\n",
       "\n",
       "    .dataframe thead th {\n",
       "        text-align: right;\n",
       "    }\n",
       "</style>\n",
       "<table border=\"1\" class=\"dataframe\">\n",
       "  <thead>\n",
       "    <tr style=\"text-align: right;\">\n",
       "      <th></th>\n",
       "      <th>0</th>\n",
       "      <th>1</th>\n",
       "      <th>2</th>\n",
       "      <th>3</th>\n",
       "    </tr>\n",
       "  </thead>\n",
       "  <tbody>\n",
       "    <tr>\n",
       "      <th>0</th>\n",
       "      <td>1.455533</td>\n",
       "      <td>0.644116</td>\n",
       "      <td>0.860738</td>\n",
       "      <td>0.772719</td>\n",
       "    </tr>\n",
       "    <tr>\n",
       "      <th>1</th>\n",
       "      <td>0.964607</td>\n",
       "      <td>-0.756267</td>\n",
       "      <td>0.329009</td>\n",
       "      <td>0.437942</td>\n",
       "    </tr>\n",
       "    <tr>\n",
       "      <th>2</th>\n",
       "      <td>-1.217523</td>\n",
       "      <td>1.034979</td>\n",
       "      <td>1.036112</td>\n",
       "      <td>-1.209801</td>\n",
       "    </tr>\n",
       "    <tr>\n",
       "      <th>7</th>\n",
       "      <td>-1.568411</td>\n",
       "      <td>-1.290597</td>\n",
       "      <td>-1.947830</td>\n",
       "      <td>1.127255</td>\n",
       "    </tr>\n",
       "    <tr>\n",
       "      <th>8</th>\n",
       "      <td>-2.074071</td>\n",
       "      <td>1.644518</td>\n",
       "      <td>2.032140</td>\n",
       "      <td>-0.132579</td>\n",
       "    </tr>\n",
       "    <tr>\n",
       "      <th>9</th>\n",
       "      <td>-2.047475</td>\n",
       "      <td>-0.509086</td>\n",
       "      <td>-0.076457</td>\n",
       "      <td>1.276365</td>\n",
       "    </tr>\n",
       "  </tbody>\n",
       "</table>\n",
       "</div>"
      ],
      "text/plain": [
       "          0         1         2         3\n",
       "0  1.455533  0.644116  0.860738  0.772719\n",
       "1  0.964607 -0.756267  0.329009  0.437942\n",
       "2 -1.217523  1.034979  1.036112 -1.209801\n",
       "7 -1.568411 -1.290597 -1.947830  1.127255\n",
       "8 -2.074071  1.644518  2.032140 -0.132579\n",
       "9 -2.047475 -0.509086 -0.076457  1.276365"
      ]
     },
     "execution_count": 38,
     "metadata": {},
     "output_type": "execute_result"
    }
   ],
   "source": [
    "pd.concat([pieces[0], pieces[2]])"
   ]
  },
  {
   "cell_type": "markdown",
   "id": "b8bf6f22-30a1-4d63-9cba-da274bbd5ad1",
   "metadata": {},
   "source": [
    "# Join"
   ]
  },
  {
   "cell_type": "code",
   "execution_count": 39,
   "id": "d7ffc1b1-714e-4adb-86e0-df638cdb364a",
   "metadata": {},
   "outputs": [
    {
     "data": {
      "text/html": [
       "<div>\n",
       "<style scoped>\n",
       "    .dataframe tbody tr th:only-of-type {\n",
       "        vertical-align: middle;\n",
       "    }\n",
       "\n",
       "    .dataframe tbody tr th {\n",
       "        vertical-align: top;\n",
       "    }\n",
       "\n",
       "    .dataframe thead th {\n",
       "        text-align: right;\n",
       "    }\n",
       "</style>\n",
       "<table border=\"1\" class=\"dataframe\">\n",
       "  <thead>\n",
       "    <tr style=\"text-align: right;\">\n",
       "      <th></th>\n",
       "      <th>key</th>\n",
       "      <th>lval</th>\n",
       "    </tr>\n",
       "  </thead>\n",
       "  <tbody>\n",
       "    <tr>\n",
       "      <th>0</th>\n",
       "      <td>foo</td>\n",
       "      <td>1</td>\n",
       "    </tr>\n",
       "    <tr>\n",
       "      <th>1</th>\n",
       "      <td>foo</td>\n",
       "      <td>2</td>\n",
       "    </tr>\n",
       "  </tbody>\n",
       "</table>\n",
       "</div>"
      ],
      "text/plain": [
       "   key  lval\n",
       "0  foo     1\n",
       "1  foo     2"
      ]
     },
     "execution_count": 39,
     "metadata": {},
     "output_type": "execute_result"
    }
   ],
   "source": [
    "left = pd.DataFrame({\"key\": [\"foo\", \"foo\"], \"lval\": [1, 2]})\n",
    "right = pd.DataFrame({\"key\": [\"foo\", \"foo\"], \"rval\": [4, 5]})\n",
    "left"
   ]
  },
  {
   "cell_type": "code",
   "execution_count": 40,
   "id": "4c605cf5-1944-46e1-a715-bc104feed008",
   "metadata": {},
   "outputs": [
    {
     "data": {
      "text/html": [
       "<div>\n",
       "<style scoped>\n",
       "    .dataframe tbody tr th:only-of-type {\n",
       "        vertical-align: middle;\n",
       "    }\n",
       "\n",
       "    .dataframe tbody tr th {\n",
       "        vertical-align: top;\n",
       "    }\n",
       "\n",
       "    .dataframe thead th {\n",
       "        text-align: right;\n",
       "    }\n",
       "</style>\n",
       "<table border=\"1\" class=\"dataframe\">\n",
       "  <thead>\n",
       "    <tr style=\"text-align: right;\">\n",
       "      <th></th>\n",
       "      <th>key</th>\n",
       "      <th>rval</th>\n",
       "    </tr>\n",
       "  </thead>\n",
       "  <tbody>\n",
       "    <tr>\n",
       "      <th>0</th>\n",
       "      <td>foo</td>\n",
       "      <td>4</td>\n",
       "    </tr>\n",
       "    <tr>\n",
       "      <th>1</th>\n",
       "      <td>foo</td>\n",
       "      <td>5</td>\n",
       "    </tr>\n",
       "  </tbody>\n",
       "</table>\n",
       "</div>"
      ],
      "text/plain": [
       "   key  rval\n",
       "0  foo     4\n",
       "1  foo     5"
      ]
     },
     "execution_count": 40,
     "metadata": {},
     "output_type": "execute_result"
    }
   ],
   "source": [
    "right"
   ]
  },
  {
   "cell_type": "code",
   "execution_count": 41,
   "id": "33b6ac7c-770a-45f6-98db-df9689befe82",
   "metadata": {},
   "outputs": [
    {
     "data": {
      "text/html": [
       "<div>\n",
       "<style scoped>\n",
       "    .dataframe tbody tr th:only-of-type {\n",
       "        vertical-align: middle;\n",
       "    }\n",
       "\n",
       "    .dataframe tbody tr th {\n",
       "        vertical-align: top;\n",
       "    }\n",
       "\n",
       "    .dataframe thead th {\n",
       "        text-align: right;\n",
       "    }\n",
       "</style>\n",
       "<table border=\"1\" class=\"dataframe\">\n",
       "  <thead>\n",
       "    <tr style=\"text-align: right;\">\n",
       "      <th></th>\n",
       "      <th>key</th>\n",
       "      <th>lval</th>\n",
       "      <th>rval</th>\n",
       "    </tr>\n",
       "  </thead>\n",
       "  <tbody>\n",
       "    <tr>\n",
       "      <th>0</th>\n",
       "      <td>foo</td>\n",
       "      <td>1</td>\n",
       "      <td>4</td>\n",
       "    </tr>\n",
       "    <tr>\n",
       "      <th>1</th>\n",
       "      <td>foo</td>\n",
       "      <td>1</td>\n",
       "      <td>5</td>\n",
       "    </tr>\n",
       "    <tr>\n",
       "      <th>2</th>\n",
       "      <td>foo</td>\n",
       "      <td>2</td>\n",
       "      <td>4</td>\n",
       "    </tr>\n",
       "    <tr>\n",
       "      <th>3</th>\n",
       "      <td>foo</td>\n",
       "      <td>2</td>\n",
       "      <td>5</td>\n",
       "    </tr>\n",
       "  </tbody>\n",
       "</table>\n",
       "</div>"
      ],
      "text/plain": [
       "   key  lval  rval\n",
       "0  foo     1     4\n",
       "1  foo     1     5\n",
       "2  foo     2     4\n",
       "3  foo     2     5"
      ]
     },
     "execution_count": 41,
     "metadata": {},
     "output_type": "execute_result"
    }
   ],
   "source": [
    "pd.merge(left, right, on=\"key\")"
   ]
  },
  {
   "cell_type": "code",
   "execution_count": null,
   "id": "3dcf7639-e0e4-4bc0-af86-59813c703456",
   "metadata": {},
   "outputs": [],
   "source": []
  }
 ],
 "metadata": {
  "kernelspec": {
   "display_name": "Python 3 (ipykernel)",
   "language": "python",
   "name": "python3"
  },
  "language_info": {
   "codemirror_mode": {
    "name": "ipython",
    "version": 3
   },
   "file_extension": ".py",
   "mimetype": "text/x-python",
   "name": "python",
   "nbconvert_exporter": "python",
   "pygments_lexer": "ipython3",
   "version": "3.12.8"
  },
  "widgets": {
   "application/vnd.jupyter.widget-state+json": {
    "state": {},
    "version_major": 2,
    "version_minor": 0
   }
  }
 },
 "nbformat": 4,
 "nbformat_minor": 5
}
